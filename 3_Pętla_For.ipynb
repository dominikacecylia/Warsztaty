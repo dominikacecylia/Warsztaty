{
  "cells": [
    {
      "cell_type": "markdown",
      "metadata": {
        "id": "view-in-github",
        "colab_type": "text"
      },
      "source": [
        "<a href=\"https://colab.research.google.com/github/dominikacecylia/Workshops-ML/blob/main/3_P%C4%99tla_For.ipynb\" target=\"_parent\"><img src=\"https://colab.research.google.com/assets/colab-badge.svg\" alt=\"Open In Colab\"/></a>"
      ]
    },
    {
      "cell_type": "markdown",
      "metadata": {
        "id": "vklNKEIKT-eQ"
      },
      "source": [
        "## Iteracja"
      ]
    },
    {
      "cell_type": "markdown",
      "metadata": {
        "id": "BAvPhK2yT-eV"
      },
      "source": [
        "- Iterowalna: struktura danych zdolna do zwracania swoich elementów pojedynczo, np. lista, krotka, ciąg, słownik (d.keys() zwraca listę).\n",
        "- Iteracja: powtarzanie tej samej operacji (często na każdym elemencie iterowalnego).\n",
        "- np. pomnożenie każdego elementu na liście przez 2 lub pobranie indeksu 0 każdego elementu na liście ciągów."
      ]
    },
    {
      "cell_type": "markdown",
      "metadata": {
        "id": "bfaQk_b-T-eV"
      },
      "source": [
        "## Pętle For"
      ]
    },
    {
      "cell_type": "markdown",
      "metadata": {
        "id": "BmyATtLIT-eW"
      },
      "source": [
        "- Zapętlanie jest przykładem iteracji, w której tę samą operację wykonujesz wielokrotnie, aż do spełnienia pewnego warunku.\n",
        "\n",
        "- Pętle For wykonują jakąś operację FOR każdy element w iterable (każdy znak w łańcuchu lub każdy element na liście itp.), aż nie będzie już więcej elementów w iterable.\n",
        "- Nazywa się to określoną iteracją: gdzie znana jest liczba iteracji.\n",
        "- To jest przykład kodowania DRY (Don't Repeat Yourself), ponieważ pojedyncza pętla for wykonuje wiele operacji za jednym razem."
      ]
    },
    {
      "cell_type": "markdown",
      "metadata": {
        "id": "cw79U93vT-eX"
      },
      "source": [
        "### Podstawowa składnia"
      ]
    },
    {
      "cell_type": "code",
      "execution_count": null,
      "metadata": {
        "id": "-vosokAlT-eX"
      },
      "outputs": [],
      "source": [
        "# for i in iterable:\n",
        "#     do_something\n",
        "#     do_something_to_i"
      ]
    },
    {
      "cell_type": "markdown",
      "metadata": {
        "id": "hQ5AuJTST-eZ"
      },
      "source": [
        "#### Możemy podzielić składnię w następujący sposób:\n",
        "- __i__ jest tutaj zmienną licznika, może to być dowolna, o ile jest spójna: najlepszą praktyką jest używanie nazw takich jak __miasto w miastach__, __element w elementach__ itd., gdzie __miasta__ lub __elementy__ to __iterowalna nazwa__ lub w przypadku jej braku, __i__, w celu czytelności.\n",
        "\n",
        "- __i__ odnosi się do każdego elementu w iteracji w danej iteracji, więc możemy użyć __i__ w bloku zrób_coś.\n",
        "\n",
        "- __in__ to __słowo kluczowe w__, wskazujące odniesienie do następującej iteracji.\n",
        "\n",
        "- __iterable__ to iterowalny element, nad którym chcemy wykonać operację, więc na przykład nazwa listy.\n",
        "\n",
        "- __dwukropek__ wskazuje przepływ sterowania i sygnalizuje wcięcie, kończąc ustawioną frazę.\n",
        "\n",
        "- Blok __do_something__ jest operacją do wykonania na każdym elemencie i tak często jest używany w tym bloku kodu, chociaż nie musi tak być."
      ]
    },
    {
      "cell_type": "markdown",
      "metadata": {
        "id": "-LCKXCgxT-ea"
      },
      "source": [
        "### Przykład"
      ]
    },
    {
      "cell_type": "code",
      "execution_count": 1,
      "metadata": {
        "colab": {
          "base_uri": "https://localhost:8080/"
        },
        "id": "upo8t4fkT-ea",
        "outputId": "80457f6a-9b0f-465b-86ee-0be3afb0ad9c"
      },
      "outputs": [
        {
          "output_type": "stream",
          "name": "stdout",
          "text": [
            "thing\n",
            "thing\n",
            "thing\n",
            "thing\n"
          ]
        }
      ],
      "source": [
        "items = [\"hat\", \"boots\", \"jacket\", \"gloves\"]\n",
        "\n",
        "for item in items:\n",
        "    print(\"thing\")\n"
      ]
    },
    {
      "cell_type": "code",
      "execution_count": 2,
      "metadata": {
        "colab": {
          "base_uri": "https://localhost:8080/"
        },
        "id": "-VBmxWYST-eb",
        "outputId": "5fb8a728-acb5-49ed-ac0f-4a1009a9ed1c"
      },
      "outputs": [
        {
          "output_type": "stream",
          "name": "stdout",
          "text": [
            "hat\n",
            "boots\n",
            "jacket\n",
            "gloves\n"
          ]
        }
      ],
      "source": [
        "items = [\"hat\", \"boots\", \"jacket\", \"gloves\"]\n",
        "\n",
        "for item in items:\n",
        "    print(item)"
      ]
    },
    {
      "cell_type": "markdown",
      "metadata": {
        "id": "0qqT2ZzLT-eb"
      },
      "source": [
        "### Funckja range()"
      ]
    },
    {
      "cell_type": "code",
      "execution_count": null,
      "metadata": {
        "id": "4MQ-o88dT-ec"
      },
      "outputs": [],
      "source": [
        "# for i in range(start,stop,step):\n",
        "#     do_something\n",
        "#     do_something_to_i"
      ]
    },
    {
      "cell_type": "markdown",
      "metadata": {
        "id": "GIIFBr6qT-ec"
      },
      "source": [
        "- Tutaj wykonujemy operację za pomocą funkcji range(), a więc wykonujemy operację na wszystkich liczbach z podanego zakresu.\n",
        "\n",
        "- range() jest generatorem, a więc zwraca obiekt zakresu, a nie listę, ale nadal można go iterować.\n",
        "\n",
        "- Aby stworzyć listę musimy użyć list(range()).\n",
        "\n",
        "- range() przyjmuje 3 argumenty, start, stop i krok.\n",
        "\n",
        "- Jeżeli podamy __1 argument__, np. range(3), zakres domyślnie start = 0 i step = 1 i przyjmuje argument jako liczbę końcową+1, więc zakres(3) zawiera 0,1,2.\n",
        "\n",
        "- Jeśli określimy __2 argumenty__, np. zakres(5,20), pierwszy to numer początkowy, a drugi to numer stopu+1.\n",
        "\n",
        "- Jeśli określimy __3 argumenty__, trzeci to krok (przyrost), czyli np. zakres (5,10,2) zawiera 5,7,9."
      ]
    },
    {
      "cell_type": "markdown",
      "metadata": {
        "id": "TAF61rhdT-ec"
      },
      "source": [
        "### Przykład"
      ]
    },
    {
      "cell_type": "code",
      "execution_count": 5,
      "metadata": {
        "colab": {
          "base_uri": "https://localhost:8080/"
        },
        "id": "58JNTPAcT-ed",
        "outputId": "01799bc6-8731-4263-b807-b92b5ff3e141"
      },
      "outputs": [
        {
          "output_type": "stream",
          "name": "stdout",
          "text": [
            "5\n",
            "7\n",
            "9\n",
            "11\n",
            "13\n",
            "15\n",
            "17\n",
            "19\n"
          ]
        }
      ],
      "source": [
        "for i in range(5,20, 2):\n",
        "    print(i)"
      ]
    },
    {
      "cell_type": "code",
      "execution_count": 6,
      "metadata": {
        "colab": {
          "base_uri": "https://localhost:8080/"
        },
        "id": "4O4hA_EqT-ed",
        "outputId": "40161d48-13a7-4c09-bb78-7fef7f100558"
      },
      "outputs": [
        {
          "output_type": "stream",
          "name": "stdout",
          "text": [
            "[0, 1, 2]\n"
          ]
        }
      ],
      "source": [
        "print(list(range(3)))"
      ]
    },
    {
      "cell_type": "code",
      "execution_count": 7,
      "metadata": {
        "colab": {
          "base_uri": "https://localhost:8080/"
        },
        "id": "oPZJcOhoT-ed",
        "outputId": "7d0beabb-0bc4-4e76-fb1d-844200654d02"
      },
      "outputs": [
        {
          "output_type": "stream",
          "name": "stdout",
          "text": [
            "[5, 6, 7, 8, 9, 10, 11, 12, 13, 14, 15, 16, 17, 18, 19]\n"
          ]
        }
      ],
      "source": [
        "print(list(range(5,20)))"
      ]
    },
    {
      "cell_type": "code",
      "execution_count": 8,
      "metadata": {
        "colab": {
          "base_uri": "https://localhost:8080/"
        },
        "id": "ClBLDPeET-ee",
        "outputId": "66ac4d6a-4d3a-4dcd-b946-9fde7c493e98"
      },
      "outputs": [
        {
          "output_type": "stream",
          "name": "stdout",
          "text": [
            "[5, 7, 9]\n"
          ]
        }
      ],
      "source": [
        "print(list(range(5,10,2)))"
      ]
    },
    {
      "cell_type": "markdown",
      "metadata": {
        "id": "V2ygLKmPT-ee"
      },
      "source": [
        "### Zastosowanie range(len(iterable))"
      ]
    },
    {
      "cell_type": "code",
      "execution_count": null,
      "metadata": {
        "id": "J_0qPdMrT-ee"
      },
      "outputs": [],
      "source": [
        "# for i in range(len(iterable)):\n",
        "#     do_something_to_iterable[i]"
      ]
    },
    {
      "cell_type": "markdown",
      "metadata": {
        "id": "rttj3E_iT-ee"
      },
      "source": [
        "- Tutaj i jest każdą liczbą w indeksie listy i możemy indeksować listę w bloku kodu, aby zmodyfikować każdy element.\n",
        "- Generalnie jest to modyfikacja list, ale może mieć inne zastosowania."
      ]
    },
    {
      "cell_type": "markdown",
      "metadata": {
        "id": "tqXlkfyhT-ef"
      },
      "source": [
        "### Przykład"
      ]
    },
    {
      "cell_type": "code",
      "execution_count": 10,
      "metadata": {
        "colab": {
          "base_uri": "https://localhost:8080/"
        },
        "id": "UrDYSwcYT-ef",
        "outputId": "570323b8-b8fd-4e8f-a939-bd37d62fb177"
      },
      "outputs": [
        {
          "output_type": "stream",
          "name": "stdout",
          "text": [
            "['HAT', 'BOOTS', 'JACKET', 'GLOVES']\n"
          ]
        }
      ],
      "source": [
        "items = [\"hat\", \"boots\", \"jacket\", \"gloves\"]\n",
        "\n",
        "# counter = 0\n",
        "for i in range(len(items)):\n",
        "    items[i] = items[i].upper()\n",
        "    \n",
        "\n",
        "print(items)"
      ]
    },
    {
      "cell_type": "markdown",
      "metadata": {
        "id": "3r2PTkfUT-eg"
      },
      "source": [
        "### Pakowanie i rozpakowywanie krotek"
      ]
    },
    {
      "cell_type": "markdown",
      "metadata": {
        "id": "-bkAOyvlT-eg"
      },
      "source": [
        "Kilka krótkich powtórek z wykładu o typach danych:\n",
        "- Jednym z najpotężniejszych aspektów krotek jest technika zwana rozpakowywaniem krotek.\n",
        "- Używając poniższej składni przecinka, Python automatycznie wybiera elementy z krotki i przypisuje je do zmiennych.\n",
        "- Możemy to wykorzystać z pętlami for, zwłaszcza podczas iteracji przez słowniki."
      ]
    },
    {
      "cell_type": "code",
      "execution_count": null,
      "metadata": {
        "id": "2sxPRgXaT-eg"
      },
      "outputs": [],
      "source": [
        "# Python here 'unpacks' the tuple automatically and picks out the values and assigns them to the comma-separated\n",
        "# variables\n",
        "a, b = (1, 2)\n",
        "\n",
        "print(a)\n",
        "print(b)"
      ]
    },
    {
      "cell_type": "markdown",
      "metadata": {
        "id": "Y5Jdlhu0T-eg"
      },
      "source": [
        "## Pętla for ze słownikami"
      ]
    },
    {
      "cell_type": "markdown",
      "metadata": {
        "id": "QIhVX5aXT-eg"
      },
      "source": [
        "Jest to możliwe na 2 sposoby:\n",
        "1. Możemy iterować przez d.keys(), ponieważ zwraca listę.\n",
        "2. Możemy użyć rozpakowywania krotek do iteracji przez d.items(), ponieważ zwraca listę sparowanych krotek.\n",
        "\n",
        "Druga metoda daje nam swobodę operowania zarówno klawiszami, jak i elementami w bardziej czytelnym formacie."
      ]
    },
    {
      "cell_type": "markdown",
      "metadata": {
        "id": "b82tf-iFT-eh"
      },
      "source": [
        "### Przykłady"
      ]
    },
    {
      "cell_type": "markdown",
      "metadata": {
        "id": "741wH0q0T-eh"
      },
      "source": [
        "#### Method 1"
      ]
    },
    {
      "cell_type": "code",
      "execution_count": 11,
      "metadata": {
        "colab": {
          "base_uri": "https://localhost:8080/"
        },
        "id": "uzVCLEvQT-eh",
        "outputId": "23046ec1-dde4-4150-d588-445645622cfb"
      },
      "outputs": [
        {
          "output_type": "execute_result",
          "data": {
            "text/plain": [
              "dict_keys(['tomato', 'sugar', 'sponges', 'juice', 'foil'])"
            ]
          },
          "metadata": {},
          "execution_count": 11
        }
      ],
      "source": [
        "# widzimy tutaj, że metoda .keys() zwraca listę\n",
        "prices = {\"tomato\":0.87, \"sugar\":1.09, \"sponges\":0.29, \"juice\":1.89, \"foil\":1.29}\n",
        "\n",
        "prices.keys()"
      ]
    },
    {
      "cell_type": "code",
      "execution_count": 12,
      "metadata": {
        "colab": {
          "base_uri": "https://localhost:8080/"
        },
        "id": "YlWyUDHUT-eh",
        "outputId": "42167ac9-d0f1-4597-9b56-e8832783b410"
      },
      "outputs": [
        {
          "output_type": "stream",
          "name": "stdout",
          "text": [
            "['tomato', 'sugar', 'sponges', 'juice', 'foil']\n",
            "[0.87, 1.09, 0.29, 1.89, 1.29]\n"
          ]
        }
      ],
      "source": [
        "# tutaj wybieramy klucze i pozycje ze słownika i dodajemy je do listy\n",
        "\n",
        "# inicjalizuj pustą listę\n",
        "code_list = []\n",
        "price_list = []\n",
        "\n",
        "for key in prices.keys():\n",
        "    \n",
        "    # dołącz sam klucz do code_list\n",
        "    code_list.append(key)\n",
        "    \n",
        "    # użyj klawisza, aby wybrać wartość i dołącz ją do cennika\n",
        "    price_list.append(prices[key])\n",
        "    \n",
        "print(code_list)\n",
        "print(price_list)"
      ]
    },
    {
      "cell_type": "markdown",
      "metadata": {
        "id": "cyO3DQnQT-eh"
      },
      "source": [
        "#### Method 2"
      ]
    },
    {
      "cell_type": "code",
      "execution_count": 13,
      "metadata": {
        "colab": {
          "base_uri": "https://localhost:8080/"
        },
        "id": "OyFl44jmT-eh",
        "outputId": "8c1703f1-47aa-474c-814d-674eabbf3b0a"
      },
      "outputs": [
        {
          "output_type": "execute_result",
          "data": {
            "text/plain": [
              "dict_items([('tomato', 0.87), ('sugar', 1.09), ('sponges', 0.29), ('juice', 1.89), ('foil', 1.29)])"
            ]
          },
          "metadata": {},
          "execution_count": 13
        }
      ],
      "source": [
        "# widzimy tutaj, że metoda .items() zwraca listę sparowanych krotek\n",
        "prices.items()"
      ]
    },
    {
      "cell_type": "code",
      "execution_count": 14,
      "metadata": {
        "colab": {
          "base_uri": "https://localhost:8080/"
        },
        "id": "CwjdemDHT-ei",
        "outputId": "ee97da0d-6ab2-4b73-d097-fbf998efa29e"
      },
      "outputs": [
        {
          "output_type": "stream",
          "name": "stdout",
          "text": [
            "['tomato', 'sugar', 'sponges', 'juice', 'foil']\n",
            "[0.87, 1.09, 0.29, 1.89, 1.29]\n"
          ]
        }
      ],
      "source": [
        "# robimy tę samą operację, ale tym razem używając rozpakowywania krotek na d.keys\n",
        "code_list = []\n",
        "price_list = []\n",
        "\n",
        "for key, value in prices.items():\n",
        "    \n",
        "    # ta linia jest taka sama jak powyżej\n",
        "    code_list.append(key)\n",
        "    \n",
        "    # tutaj również uzyskujemy dostęp do wartości i bezpośrednio dołączamy ją do cennika\n",
        "    price_list.append(value)\n",
        "    \n",
        "print(code_list)\n",
        "print(price_list)"
      ]
    },
    {
      "cell_type": "markdown",
      "metadata": {
        "id": "lVj5mFuRT-ei"
      },
      "source": [
        "Możemy również wykonać inne operacje za pomocą rozpakowywania krotek:"
      ]
    },
    {
      "cell_type": "code",
      "execution_count": null,
      "metadata": {
        "id": "ja0icb7ST-ei"
      },
      "outputs": [],
      "source": [
        "prices = {\"tomato\":0.87, \"sugar\":1.09, \"sponges\":0.29, \"juice\":1.89, \"foil\":1.29}\n",
        "\n",
        "for key, value in prices.items():\n",
        "    print(\"Item Code: {}\\nPrice: £{}\\n\".format(key,value))"
      ]
    },
    {
      "cell_type": "markdown",
      "metadata": {
        "id": "52C3T0xNT-ei"
      },
      "source": [
        "## Instrukcje If w pętlach for\n",
        "- Możemy wykorzystać przepływ sterowania w pętlach for do wykonywania różnych operacji w zależności od warunków."
      ]
    },
    {
      "cell_type": "code",
      "source": [
        "if 1 > 2:\n",
        "  print('a')\n",
        "elif 2 < 6:\n",
        "  ...\n",
        "else:\n",
        "  ..."
      ],
      "metadata": {
        "id": "2-fCb-PHVIZv"
      },
      "execution_count": null,
      "outputs": []
    },
    {
      "cell_type": "markdown",
      "metadata": {
        "id": "vXLM23PLT-ej"
      },
      "source": [
        "### Przykład\n",
        "- Tutaj używamy przykładu kalkulatora BMI, aby zademonstrować kombinację kilku pojęć.\n",
        "- Wysokości są w metrach, a wagi w kilogramach dla ułatwienia obliczeń."
      ]
    },
    {
      "cell_type": "code",
      "execution_count": null,
      "metadata": {
        "id": "VBBf7g-FT-ej"
      },
      "outputs": [],
      "source": [
        "# kodujemy listę wzrostów i wag jako listę krotek\n",
        "heights_weights = [(1.83, 85),(1.55, 61),(2.09, 135),(1.71, 70),(1.71, 95),(1.71, 55)]\n",
        "\n",
        "\n",
        "# ustawiamy bmis jako pustą listę, do której dołączamy wartości bmi\n",
        "bmis = []\n",
        "\n",
        "\n",
        "# używamy rozpakowywania krotek, aby dodać wartości bmi do bmis\n",
        "for height, weight in heights_weights:\n",
        "    bmis.append(weight/height**2)\n",
        "\n",
        "\n",
        "# tutaj wypisujemy bmis, aby wyświetlić listę pośrednią (zwykle byśmy tego nie robili)\n",
        "print(\"This is the list of BMIs: {}\\n\".format(bmis))\n",
        "\n",
        "\n",
        "# zapętlamy listę bmi, aby przypisać wartości do poprawnej wiadomości\n",
        "for bmi in bmis:\n",
        "    if bmi < 18.5:\n",
        "        print(\"You're in the underweight range. Your BMI is {:3.1f}.\".format(bmi))\n",
        "    elif bmi <= 24.9:\n",
        "        print(\"You're in the healthy weight range. Your BMI is {:3.1f}.\".format(bmi))\n",
        "    elif bmi <= 29.9:\n",
        "        print(\"You're in the overweight range. Your BMI is {:3.1f}.\".format(bmi))\n",
        "    elif bmi <= 39.9:\n",
        "        print(\"You're in the obese range. Your BMI is {:3.1f}.\".format(bmi))"
      ]
    },
    {
      "cell_type": "markdown",
      "metadata": {
        "id": "9WHvF86iT-ej"
      },
      "source": [
        "Możemy to teraz zrobić w pojedynczej pętli for:"
      ]
    },
    {
      "cell_type": "code",
      "execution_count": null,
      "metadata": {
        "id": "q1KO24cjT-ej"
      },
      "outputs": [],
      "source": [
        "heights_weights = [(1.83, 85),(1.55, 61),(2.09, 135),(1.71, 70),(1.71, 95),(1.71, 55)]\n",
        "\n",
        "for height, weight in heights_weights:\n",
        "    \n",
        "    # tutaj obliczamy bmi w pętli for przy użyciu sparowanych wartości krotek przed przekazaniem wartości bmi\n",
        "    # do kolejnych instrukcji if\n",
        "    bmi = weight/height**2\n",
        "\n",
        "    if bmi < 18.5:\n",
        "        print(\"You're in the underweight range. Your BMI is {:3.1f}\".format(bmi))\n",
        "    elif bmi <= 24.9:\n",
        "        print(\"You're in the healthy weight range. Your BMI is {:3.1f}\".format(bmi))\n",
        "    elif bmi <= 29.9:\n",
        "        print(\"You're in the overweight range. Your BMI is {:3.1f}\".format(bmi))\n",
        "    elif bmi <= 39.9:\n",
        "        print(\"You're in the obese range. Your BMI is {:3.1f}\".format(bmi))"
      ]
    },
    {
      "cell_type": "code",
      "execution_count": null,
      "metadata": {
        "id": "FtvEfUxFT-ej"
      },
      "outputs": [],
      "source": []
    },
    {
      "cell_type": "markdown",
      "metadata": {
        "id": "JAHr1Tq-T-ek"
      },
      "source": [
        "## Ćwiczenie 1\n",
        "\n",
        "Napisz pętlę for, aby policzyć liczby parzyste i nieparzyste z zakresu od 1 do 100."
      ]
    },
    {
      "cell_type": "code",
      "execution_count": null,
      "metadata": {
        "id": "Aii-odkCT-ek"
      },
      "outputs": [],
      "source": [
        "count_odd = 0\n",
        "count_even = 0\n",
        "\n",
        "# CODE HERE\n",
        "\n",
        "print(\"Number of Even Numbers: {}\".format(count_even))\n",
        "print(\"Number of Odd Numbers: {}\".format(count_odd))"
      ]
    },
    {
      "cell_type": "code",
      "execution_count": null,
      "metadata": {
        "id": "deBPbdfoT-ek"
      },
      "outputs": [],
      "source": []
    },
    {
      "cell_type": "markdown",
      "metadata": {
        "id": "jNT37a8bT-ek"
      },
      "source": [
        "## Słowa kluczowe Pass, Break i Continue"
      ]
    },
    {
      "cell_type": "markdown",
      "metadata": {
        "id": "MFtYffh4T-ek"
      },
      "source": [
        "- Słowo kluczowe pass służy jako symbol zastępczy w pustej pętli, oznacza „nic nie rób”.\n",
        "- Używamy pass, gdy chcemy mieć pętlę (lub funkcję) w naszym kodzie, ale nie chcemy jej teraz pisać, ale nadal chcemy mieć możliwość uruchomienia reszty naszego kodu.\n",
        "- Słowo kluczowe break kończy pętlę po jej uruchomieniu.\n",
        "- Słowo kluczowe continue przesuwa się na początek najbliższej otaczającej pętli i przechodzi do następnej iteracji.\n",
        "— Zwykle używamy ich wewnątrz warunku, aby zakończyć pętlę lub pominąć iterację, gdy warunek zostanie spełniony."
      ]
    },
    {
      "cell_type": "markdown",
      "metadata": {
        "id": "-I4PS2FkT-ek"
      },
      "source": [
        "### Przykłady"
      ]
    },
    {
      "cell_type": "code",
      "execution_count": 15,
      "metadata": {
        "colab": {
          "base_uri": "https://localhost:8080/"
        },
        "id": "5F1fPIuWT-ek",
        "outputId": "5dfc1975-f1e6-4c5e-9275-60e89b8dd6d4"
      },
      "outputs": [
        {
          "output_type": "stream",
          "name": "stdout",
          "text": [
            "10 5\n"
          ]
        }
      ],
      "source": [
        "x,y = 10,5\n",
        "\n",
        "for i in range(20):\n",
        "    pass\n",
        "\n",
        "print(x,y)"
      ]
    },
    {
      "cell_type": "code",
      "execution_count": 16,
      "metadata": {
        "colab": {
          "base_uri": "https://localhost:8080/"
        },
        "id": "_4uZU4BPT-el",
        "outputId": "0b5af6ec-9c99-4421-a92a-773713ec68e1"
      },
      "outputs": [
        {
          "output_type": "stream",
          "name": "stdout",
          "text": [
            "1\n",
            "2\n",
            "3\n",
            "4\n",
            "6\n",
            "7\n",
            "8\n",
            "9\n",
            "11\n"
          ]
        }
      ],
      "source": [
        "for i in range(12):\n",
        "    if i%5 == 0:\n",
        "        continue\n",
        "    print(i)"
      ]
    },
    {
      "cell_type": "code",
      "execution_count": 17,
      "metadata": {
        "colab": {
          "base_uri": "https://localhost:8080/"
        },
        "id": "inMdN_0sT-el",
        "outputId": "ee72232e-e7f0-4b4b-efb7-eda5856dd584"
      },
      "outputs": [
        {
          "output_type": "stream",
          "name": "stdout",
          "text": [
            "1\n",
            "2\n",
            "3\n",
            "4\n"
          ]
        }
      ],
      "source": [
        "for i in range(1,12):\n",
        "    if i%5 == 0:\n",
        "        break\n",
        "    else:\n",
        "        print(i)"
      ]
    },
    {
      "cell_type": "code",
      "execution_count": null,
      "metadata": {
        "id": "wWRNbyFjT-el"
      },
      "outputs": [],
      "source": []
    },
    {
      "cell_type": "markdown",
      "metadata": {
        "id": "7jnsm5qDT-el"
      },
      "source": [
        "## Ćwiczenie 2\n",
        "\n",
        "Korzystając ze słownika nazw i listy order_list pokazanych poniżej, napisz program spełniający następujące warunki:\n",
        "- Powinna generować zamówienie poprzez sekwencyjne dodawanie pozycji do paragonu z listy zamówień.\n",
        "- Przy każdej iteracji powinien drukować „Current Total: £x”\n",
        "- Jeśli wartość zamówienia przekracza wartość budżetu, należy zaprzestać dodawania pozycji i wydrukować \"Przekroczono budżet!\".\n",
        "- Jeśli nie, za każdym razem, gdy dodaje elementy, powinien:\n",
        "     - Print \"Dodanie *pełnej nazwy towaru* (ilość)\".\n",
        "     - Odejmij cenę od budżetu.\n",
        "     - Dodaj cenę do running_total.\n",
        "- Powinien wydrukować bieżącą_łączną, zamówienie i budżet sformatowane w wyciągach do wydruku (zrobione za Ciebie)."
      ]
    },
    {
      "cell_type": "code",
      "execution_count": null,
      "metadata": {
        "id": "iwzrV2SmT-el"
      },
      "outputs": [],
      "source": [
        "order_list = [(\"tom\", 0.87, 4), \n",
        "         (\"sug\", 1.09, 3), \n",
        "         (\"ws\", 0.29, 4), \n",
        "         (\"juc\", 1.89, 1), \n",
        "         (\"fo\", 1.29, 2)]\n",
        "\n",
        "names = {\"tom\":\"Tomatoes\", \n",
        "         \"sug\":\"Sugar\", \n",
        "         \"ws\":\"Washing Sponges\", \n",
        "         \"juc\":\"Juice\", \n",
        "         \"fo\":\"Foil\"}\n",
        "\n",
        "budget = 10.00\n",
        "running_total = 0\n",
        "receipt = []\n",
        "\n",
        "# CODE HERE\n",
        "        \n",
        "print(\"The total for the order is: £{:5.2f}\".format(running_total))\n",
        "print(\"The items in the order are: {}\".format(receipt))\n",
        "print(\"The remaining budget is: £{:5.2f}\".format(budget))"
      ]
    },
    {
      "cell_type": "code",
      "execution_count": null,
      "metadata": {
        "id": "fIU0NrR0T-el"
      },
      "outputs": [],
      "source": []
    },
    {
      "cell_type": "markdown",
      "metadata": {
        "id": "z-aNRikgT-el"
      },
      "source": [
        "## Zip i Enumerate"
      ]
    },
    {
      "cell_type": "markdown",
      "metadata": {
        "id": "fudkIeRlT-em"
      },
      "source": [
        "- Funkcja zip() łączy elementy iterowalne w krotki, ale zip jest iteratorem zwracającym obiekt zip, który następnie musi zostać przetworzony lub przekonwertowany na listę w celu wyświetlenia.\n",
        "- Można rozpakować do krotek, dodając argument * wewnątrz zip().\n",
        "- enumerate() zwraca iterator krotek zawierających (indeks,pozycja).\n",
        "- Jest to przydatne w przypadku operacji na indeksach i elementach: łączenie pętli for na iterowalnej z pętlą for na zakresie(len(iterable))."
      ]
    },
    {
      "cell_type": "markdown",
      "metadata": {
        "id": "IqCbtl_pT-em"
      },
      "source": [
        "### Przykłady"
      ]
    },
    {
      "cell_type": "code",
      "execution_count": 21,
      "metadata": {
        "colab": {
          "base_uri": "https://localhost:8080/"
        },
        "id": "3zNVE8fTT-em",
        "outputId": "379cf139-07da-46a1-bd48-4dbccfa4918a"
      },
      "outputs": [
        {
          "output_type": "stream",
          "name": "stdout",
          "text": [
            "[('tomato', 0.87), ('sugar', 1.09), ('sponges', 0.29), ('juice', 1.89), ('foil', 1.29)]\n"
          ]
        }
      ],
      "source": [
        "# zip() tworzy obiekt zip, który należy powtórzyć lub wyświetlić, aby go wyświetlić\n",
        "\n",
        "items = [\"tomato\", \"sugar\", \"sponges\", \"juice\", \"foil\"]\n",
        "prices = [0.87, 1.09, 0.29, 1.89, 1.29]\n",
        "prices2 = [0.87, 1.09, 0.29, 1.89, 1.29]\n",
        "\n",
        "items_and_prices = zip(items, prices)\n",
        "\n",
        "print(list(items_and_prices))\n"
      ]
    },
    {
      "cell_type": "code",
      "execution_count": 22,
      "metadata": {
        "colab": {
          "base_uri": "https://localhost:8080/"
        },
        "id": "c0RcpMhKT-em",
        "outputId": "f4a5e4e9-aafd-493d-9eb4-fee8f0926b17"
      },
      "outputs": [
        {
          "output_type": "stream",
          "name": "stdout",
          "text": [
            "tomato 0.87 0.87\n",
            "sugar 1.09 1.09\n",
            "sponges 0.29 0.29\n",
            "juice 1.89 1.89\n",
            "foil 1.29 1.29\n"
          ]
        }
      ],
      "source": [
        "for item, price, price2 in zip(items, prices, prices2):\n",
        "    print(item, price, price2)"
      ]
    },
    {
      "cell_type": "code",
      "execution_count": 23,
      "metadata": {
        "colab": {
          "base_uri": "https://localhost:8080/"
        },
        "id": "3herKvUAT-em",
        "outputId": "cf082fef-c73e-4b65-d5a1-7cd48c7b86fa"
      },
      "outputs": [
        {
          "output_type": "stream",
          "name": "stdout",
          "text": [
            "('tomato', 'sugar', 'sponges', 'juice', 'foil')\n",
            "(0.87, 1.09, 0.29, 1.89, 1.29)\n"
          ]
        }
      ],
      "source": [
        "# możemy rozpakować obiekt zip do krotek używając * wewnątrz wywołania zip\n",
        "\n",
        "items_and_prices = zip(items, prices) #tworzenie obiektu zip\n",
        "\n",
        "tuple_of_items, tuple_of_prices = zip(*items_and_prices) # rozpakowywanie obiektu zip\n",
        "print(tuple_of_items)\n",
        "print(tuple_of_prices)"
      ]
    },
    {
      "cell_type": "code",
      "execution_count": null,
      "metadata": {
        "id": "rUx-vG4TT-em"
      },
      "outputs": [],
      "source": [
        "# może iterować i wykonywać operacje na obiekcie zip\n",
        "\n",
        "for item, price in zip(items, prices):\n",
        "    print(\"The price of {} is £{}\".format(item, price))"
      ]
    },
    {
      "cell_type": "code",
      "execution_count": 24,
      "metadata": {
        "colab": {
          "base_uri": "https://localhost:8080/"
        },
        "id": "mLMsuVeCT-en",
        "outputId": "7ee3358d-d53f-4a37-f8f4-9e0f7f5adb09"
      },
      "outputs": [
        {
          "output_type": "stream",
          "name": "stdout",
          "text": [
            "0 hat\n",
            "1 scarf\n",
            "2 coat\n",
            "3 gloves\n"
          ]
        }
      ],
      "source": [
        "# enumerate() podaje zarówno elementy, jak i ich indeksy, na których można operować\n",
        "\n",
        "items = [\"hat\", \"scarf\", \"coat\", \"gloves\"]\n",
        "\n",
        "\n",
        "for index, item in enumerate(items):\n",
        "    print(index, item)"
      ]
    },
    {
      "cell_type": "code",
      "execution_count": null,
      "metadata": {
        "id": "5QsPxzIET-en"
      },
      "outputs": [],
      "source": [
        "# wyliczyć obiekty mogą być również pokazywane na listach/krotkach itp.\n",
        "print(tuple(enumerate(items)))"
      ]
    },
    {
      "cell_type": "markdown",
      "metadata": {
        "id": "E9sfB-TZT-en"
      },
      "source": [
        "## List Comprehensions"
      ]
    },
    {
      "cell_type": "markdown",
      "metadata": {
        "id": "4_SdEt62T-en"
      },
      "source": [
        "- List comprehension to znacznie wydajniejszy sposób pisania pętli for, która generuje lub modyfikuje listę.\n",
        "- Są bardziej odpowiednie, gdy użyjemy .append() na liście wewnątrz pętli for lub będziemy iterować po indeksie listy, aby zmodyfikować każdy element, w przeciwnym razie pętla for jest lepsza.\n",
        "- Złożone pętle operujące na listach, takie jak kalkulator BMI, nie nadają się do rozumienia list: byłyby zbyt skomplikowane, aby je łatwo odczytać.\n",
        "- Są napisane w jednej linii, a składnia w porównaniu do pętli for wygląda następująco:"
      ]
    },
    {
      "cell_type": "code",
      "execution_count": null,
      "metadata": {
        "id": "EKCqqzBtT-en"
      },
      "outputs": [],
      "source": [
        "# for item in iterable:\n",
        "#     do_something\n",
        "\n",
        "# [do_something for item in iterable]"
      ]
    },
    {
      "cell_type": "markdown",
      "metadata": {
        "id": "wzsdN91MT-en"
      },
      "source": [
        "### Przykłady"
      ]
    },
    {
      "cell_type": "markdown",
      "metadata": {
        "id": "NuWBpWVYT-eo"
      },
      "source": [
        "To:"
      ]
    },
    {
      "cell_type": "code",
      "execution_count": 25,
      "metadata": {
        "colab": {
          "base_uri": "https://localhost:8080/"
        },
        "id": "wx9RDddVT-eo",
        "outputId": "e7c0e9b7-753d-43b1-d155-1171a0cdc484"
      },
      "outputs": [
        {
          "output_type": "stream",
          "name": "stdout",
          "text": [
            "[0, 1, 4, 9, 16, 25, 36, 49, 64, 81]\n"
          ]
        }
      ],
      "source": [
        "squares = []\n",
        "\n",
        "for i in range(10):\n",
        "    squares.append(i**2)\n",
        "\n",
        "print(squares)"
      ]
    },
    {
      "cell_type": "markdown",
      "metadata": {
        "id": "NcbkLYTTT-eo"
      },
      "source": [
        "jest równoznaczne temu:"
      ]
    },
    {
      "cell_type": "code",
      "execution_count": 26,
      "metadata": {
        "colab": {
          "base_uri": "https://localhost:8080/"
        },
        "id": "j8i5AcUUT-eo",
        "outputId": "9ed4288f-b86f-472f-a25f-dcc7678367dc"
      },
      "outputs": [
        {
          "output_type": "stream",
          "name": "stdout",
          "text": [
            "[0, 1, 4, 9, 16, 25, 36, 49, 64, 81]\n"
          ]
        }
      ],
      "source": [
        "squares = [i**2 for i in range(10)]\n",
        "\n",
        "print(squares)"
      ]
    },
    {
      "cell_type": "markdown",
      "metadata": {
        "id": "HxOuFXjLT-eo"
      },
      "source": [
        "## List Comprehensions z warunkami"
      ]
    },
    {
      "cell_type": "markdown",
      "metadata": {
        "id": "2COI4_N9T-eo"
      },
      "source": [
        "- Instrukcje warunkowe w listach składanych są 2 typów.\n",
        "- Przy dodawaniu tylko instrukcji if, warunek następuje po instrukcji for.\n",
        "- Podczas dodawania instrukcji if/else, warunek poprzedza instrukcję for."
      ]
    },
    {
      "cell_type": "markdown",
      "metadata": {
        "id": "TH7Ml9k0T-eo"
      },
      "source": [
        "### Przykłady"
      ]
    },
    {
      "cell_type": "markdown",
      "metadata": {
        "id": "iU9bezagT-eo"
      },
      "source": [
        "To:"
      ]
    },
    {
      "cell_type": "code",
      "execution_count": null,
      "metadata": {
        "id": "kA_9eb1KT-ep"
      },
      "outputs": [],
      "source": [
        "squared_threes = []\n",
        "\n",
        "for x in range(10):\n",
        "    if x%3 == 0:\n",
        "        squared_threes.append(x**2)\n",
        "\n",
        "print(squared_threes)"
      ]
    },
    {
      "cell_type": "markdown",
      "metadata": {
        "id": "-gw69qAFT-ep"
      },
      "source": [
        "jest równoważne temu:"
      ]
    },
    {
      "cell_type": "code",
      "execution_count": null,
      "metadata": {
        "id": "7jQGULWlT-ep"
      },
      "outputs": [],
      "source": [
        "squared_threes = [x**2 for x in range(10) if x%3==0]\n",
        "\n",
        "print(squared_threes)"
      ]
    },
    {
      "cell_type": "markdown",
      "metadata": {
        "id": "ZkxhwMd6T-ep"
      },
      "source": [
        "Stosowanie if/else:"
      ]
    },
    {
      "cell_type": "code",
      "execution_count": null,
      "metadata": {
        "id": "cqbzQf1MT-ep"
      },
      "outputs": [],
      "source": [
        "squares_and_cubes = []\n",
        "\n",
        "for x in range(10):\n",
        "    if x%3 == 0:\n",
        "        squares_and_cubes.append(x**3)\n",
        "    else:\n",
        "        squares_and_cubes.append(x**2)\n",
        "\n",
        "print(squares_and_cubes)"
      ]
    },
    {
      "cell_type": "markdown",
      "metadata": {
        "id": "Nml3f02UT-ep"
      },
      "source": [
        "zamienia się w:"
      ]
    },
    {
      "cell_type": "code",
      "execution_count": null,
      "metadata": {
        "id": "XXi10RXPT-ep"
      },
      "outputs": [],
      "source": [
        "squares_and_cubes = [x**3 if x%3==0 else x**2 for x in range(10)]\n",
        "\n",
        "print(squares_and_cubes)"
      ]
    },
    {
      "cell_type": "markdown",
      "metadata": {
        "id": "x-BQNSVjT-eq"
      },
      "source": [
        "#### UWAGA\n",
        "Listy składane z warunkami warunkowymi mogą szybko stać się nadmiernie skomplikowane i nieczytelne, a także dawać fałszywe poczucie bezpieczeństwa co do umiejętności programisty. <br>\n",
        "Często czystsze jest użycie pętli for niż skomplikowanej listy, ponieważ chociaż mogłeś napisać zgrabną jednolinijkę, będzie to po prostu mylące, gdy wrócisz do niej za 6 miesięcy. <br>\n",
        "Czytelność powinna być zawsze na pierwszym miejscu, a nie wykonywać jak najwięcej operacji w jednym wierszu."
      ]
    },
    {
      "cell_type": "code",
      "execution_count": null,
      "metadata": {
        "id": "uoYgP86qT-eq"
      },
      "outputs": [],
      "source": []
    },
    {
      "cell_type": "markdown",
      "metadata": {
        "id": "5el0WDLWT-eq"
      },
      "source": [
        "## Ćwiczenie 3\n",
        "- Utwórz list comprehension, która podnosi do kwadratu argumenty parzyste i dodaje 1 do i podnosi do kwadratu nieparzyste argumenty\n",
        "- Przetestuj na my_list"
      ]
    },
    {
      "cell_type": "code",
      "execution_count": null,
      "metadata": {
        "id": "utiUQ-enT-eq"
      },
      "outputs": [],
      "source": [
        "my_list = [34,52,71,39,22,73,92]\n",
        "\n",
        "# CODE HERE"
      ]
    },
    {
      "cell_type": "markdown",
      "metadata": {
        "id": "pLIMTO9OT-eq"
      },
      "source": [
        "## Ćwiczenie 4\n",
        "Przefiltruj shop_dict za pomocą list comprehension, aby znaleźć tylko przedmioty o wartości powyżej 1,00\n",
        "\n",
        "Przypisz je do listy o nazwie filter_shop według ich pełnych nazw, a nie kodów, używając names_dict."
      ]
    },
    {
      "cell_type": "code",
      "execution_count": null,
      "metadata": {
        "id": "cfc8P5TrT-eq"
      },
      "outputs": [],
      "source": [
        "shop_dict = {\"tom\":0.87,\n",
        "        \"sug\":1.09,\n",
        "        \"ws\":0.29,\n",
        "        \"cc\":1.89,\n",
        "        \"ccz\":1.29}\n",
        "\n",
        "names_dict = {\"tom\":\"Tomatoes\", \n",
        "         \"sug\":\"Sugar\", \n",
        "         \"ws\":\"Washing Sponges\", \n",
        "         \"cc\":\"Coca-Cola\", \n",
        "         \"ccz\":\"Coca-Cola Zero\"}\n",
        "\n",
        "# CODE HERE\n",
        "\n",
        "print(filtered_shop)"
      ]
    },
    {
      "cell_type": "code",
      "execution_count": null,
      "metadata": {
        "id": "MJLwnOs3T-eq"
      },
      "outputs": [],
      "source": []
    },
    {
      "cell_type": "markdown",
      "metadata": {
        "id": "lZ3NawL8T-eq"
      },
      "source": [
        "## Zagnieżdzone pętle For"
      ]
    },
    {
      "cell_type": "markdown",
      "metadata": {
        "id": "GV5I5c3TT-eq"
      },
      "source": [
        "— Pętle for mogą być używane w ramach pętli for, znanych jako zagnieżdżone pętle for.\n",
        "- Przepływ sterowania w pętlach zagnieżdżonych oznacza, że pętla zewnętrzna wykonuje wszystkie iteracje pętli wewnętrznej na swoim pierwszym elemencie przed przejściem do następnej iteracji i powtórzeniem.\n",
        "- Istnieje również listowy odpowiednik zagnieżdżonej pętli for.\n",
        "- Ten pomysł zagnieżdżania pętli może być używany w nieskończoność (pętla for w pętli for w pętli for itp. itp.), ale poza pojedynczym zagnieżdżeniem staje się bardzo skomplikowana do odczytania i zrozumienia.\n",
        "- Należy ich unikać tam, gdzie to możliwe, ponieważ im więcej zagnieżdżeń występuje, tym mniej wydajny jest kod.\n",
        "- Jednak istnieją pewne uzasadnione przypadki ich użycia - częstym przykładem jest iteracja na wielu listach."
      ]
    },
    {
      "cell_type": "code",
      "execution_count": 27,
      "metadata": {
        "colab": {
          "base_uri": "https://localhost:8080/"
        },
        "id": "ypwEOq2WT-er",
        "outputId": "d3f1c730-56a1-40e0-d88d-9a90fff6612f"
      },
      "outputs": [
        {
          "output_type": "stream",
          "name": "stdout",
          "text": [
            "Outer Loop Operation: 1\n",
            "Inner Loop Operation: 1\n",
            "Inner Loop Operation: 2\n",
            "Inner Loop Operation: 3\n",
            "\n",
            "Outer Loop Operation: 2\n",
            "Inner Loop Operation: 1\n",
            "Inner Loop Operation: 2\n",
            "Inner Loop Operation: 3\n",
            "\n",
            "Outer Loop Operation: 3\n",
            "Inner Loop Operation: 1\n",
            "Inner Loop Operation: 2\n",
            "Inner Loop Operation: 3\n",
            "\n"
          ]
        }
      ],
      "source": [
        "# podstawowa składnia, operacje w pętli wewnętrznej są wykonywane DLA każdej operacji w pętli zewnętrznej\n",
        "for i in range(1,4):\n",
        "    print(\"Outer Loop Operation: {}\".format(i))\n",
        "    \n",
        "    for j in range(1,4):\n",
        "        print(\"Inner Loop Operation: {}\".format(j))\n",
        "    \n",
        "    print() # nowa linijka"
      ]
    },
    {
      "cell_type": "code",
      "execution_count": null,
      "metadata": {
        "id": "b90-uhKxT-er"
      },
      "outputs": [],
      "source": [
        "#używamy countera\n",
        "mylist = []\n",
        "\n",
        "for x in [2,3,4]:\n",
        "    for y in [1,2,3]:\n",
        "        mylist.append(x**y)\n",
        "\n",
        "print(mylist)"
      ]
    },
    {
      "cell_type": "code",
      "execution_count": null,
      "metadata": {
        "id": "0t7RxUbKT-er"
      },
      "outputs": [],
      "source": [
        "# list comprehension składnia: najpierw operacja, a następnie polecenia for\n",
        "[x**y for x in [2,3,4] for y in [1,2,3]]"
      ]
    },
    {
      "cell_type": "markdown",
      "metadata": {
        "id": "Uk2E9Dk0T-er"
      },
      "source": [
        "## Ćwiczenie 5"
      ]
    },
    {
      "cell_type": "markdown",
      "metadata": {
        "id": "W1EPqNSZT-er"
      },
      "source": [
        "Napisz program, który wygeneruje następujący wzorzec.\n",
        "\n",
        "WSKAZÓWKA: Użyj zagnieżdżonych pętli, używając jednej zagnieżdżonej pętli, aby zwiększyć rozmiar, a drugiej, aby zmniejszyć."
      ]
    },
    {
      "cell_type": "code",
      "execution_count": null,
      "metadata": {
        "id": "L5cdfcU4T-er"
      },
      "outputs": [],
      "source": [
        "n=5\n",
        "\n",
        "# CODE HERE"
      ]
    },
    {
      "cell_type": "markdown",
      "metadata": {
        "id": "kaXrNpwRT-es"
      },
      "source": [
        "## Pytanie bonusowe"
      ]
    },
    {
      "cell_type": "markdown",
      "metadata": {
        "id": "FL9bGDClT-es"
      },
      "source": [
        "Napisz program sprawdzający, czy każda liczba od 10 do 50 jest liczbą pierwszą\n",
        "\n",
        "Twoja odpowiedź powinna mieć następujący format:\n",
        "- \"x JEST liczbą pierwszą.\" dla liczb pierwszych\n",
        "- \"x NIE JEST liczbą pierwszą, ponieważ y jest współczynnikiem x.\" dla nie-prime\n",
        "\n",
        "WSKAZÓWKA: Jest to możliwe przy użyciu pętli while zagnieżdżonej w pętli for lub za pomocą zagnieżdżonej pętli for; jeśli możesz, spróbuj znaleźć oba."
      ]
    },
    {
      "cell_type": "code",
      "execution_count": null,
      "metadata": {
        "id": "VdETOh--T-es"
      },
      "outputs": [],
      "source": [
        "# CODE HERE"
      ]
    },
    {
      "cell_type": "code",
      "execution_count": null,
      "metadata": {
        "id": "-XO2p9HxT-es"
      },
      "outputs": [],
      "source": []
    },
    {
      "cell_type": "markdown",
      "metadata": {
        "id": "IUuPjOrmT-et"
      },
      "source": [
        "## Dalsza lektura\n",
        "- Ta lekcja nie wymaga dalszej lektury, proszę uważnie przejrzeć te przykłady, aby w pełni zrozumieć różnorodność zastosowań pętli for.\n",
        "- Dla tych, którzy naprawdę chcą dowiedzieć się więcej polecak książkę Learning Python autorstwa Marka Lutza: pamiętajcie, że jest to tekst referencyjny i ma ponad 1000 stron. Jest cały rozdział poświęcony pętlom for.\n",
        "- PDF z Learning Python jest dostępny tutaj: https://cfm.ehu.es/ricardo/docs/python/Learning_Python.pdf"
      ]
    },
    {
      "cell_type": "code",
      "execution_count": null,
      "metadata": {
        "id": "isW59ARkT-et"
      },
      "outputs": [],
      "source": []
    }
  ],
  "metadata": {
    "kernelspec": {
      "display_name": "Python 3",
      "language": "python",
      "name": "python3"
    },
    "language_info": {
      "codemirror_mode": {
        "name": "ipython",
        "version": 3
      },
      "file_extension": ".py",
      "mimetype": "text/x-python",
      "name": "python",
      "nbconvert_exporter": "python",
      "pygments_lexer": "ipython3",
      "version": "3.8.6-final"
    },
    "colab": {
      "provenance": [],
      "include_colab_link": true
    }
  },
  "nbformat": 4,
  "nbformat_minor": 0
}